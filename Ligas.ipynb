{
  "nbformat": 4,
  "nbformat_minor": 0,
  "metadata": {
    "colab": {
      "name": "Ligas",
      "provenance": [],
      "collapsed_sections": [],
      "include_colab_link": true
    },
    "kernelspec": {
      "name": "python3",
      "display_name": "Python 3"
    }
  },
  "cells": [
    {
      "cell_type": "markdown",
      "metadata": {
        "id": "view-in-github",
        "colab_type": "text"
      },
      "source": [
        "<a href=\"https://colab.research.google.com/github/crowtomahawk/Avalia-o-Programa-o-de-dispositvos-m-veis/blob/main/Ligas.ipynb\" target=\"_parent\"><img src=\"https://colab.research.google.com/assets/colab-badge.svg\" alt=\"Open In Colab\"/></a>"
      ]
    },
    {
      "cell_type": "markdown",
      "metadata": {
        "id": "OUc22k4shZlq"
      },
      "source": [
        "#Problema: Ligas metálicas\n",
        "\n",
        "####Uma metalúrgica produz dois tipos de ligas metálicas. Cada liga é composta de proporções diferentes de cobre, zinco e chumbo, os quais estão disponíveis em quantidades limitadas em estoque. Deseja-se determinar quanto produzir de cada liga, de modo a maximizar a receita bruta, satisfazendo as seguintes composições das ligas e a disponibilidade de matéria-prima em estoque:\n",
        "\n",
        "\n",
        "\n",
        "\n",
        "<style type=\"text/css\">\n",
        ".tg  {border-collapse:collapse;border-spacing:0;border-color:#aabcfe;}\n",
        ".tg td{font-family:Arial, sans-serif;font-size:14px;padding:10px 5px;border-style:solid;border-width:1px;overflow:hidden;word-break:normal;border-color:#aabcfe;color:#669;background-color:#e8edff;}\n",
        ".tg th{font-family:Arial, sans-serif;font-size:14px;font-weight:normal;padding:10px 5px;border-style:solid;border-width:1px;overflow:hidden;word-break:normal;border-color:#aabcfe;color:#039;background-color:#b9c9fe;}\n",
        ".tg .tg-koh6{font-size:36px;border-color:inherit;text-align:left;vertical-align:top}\n",
        "</style>\n",
        "<table class=\"tg\">\n",
        "  <tr>\n",
        "    <th class=\"tg-koh6\">Matéria-prima</th>\n",
        "    <th class=\"tg-koh6\">Liga 1</th>\n",
        "    <th class=\"tg-koh6\">Liga 2</th>\n",
        "    <th class=\"tg-koh6\">Estoque</th>\n",
        "  </tr>\n",
        "  <tr>\n",
        "    <td class=\"tg-koh6\">Cobre</td>\n",
        "    <td class=\"tg-koh6\">50%</td>\n",
        "    <td class=\"tg-koh6\">30%</td>\n",
        "    <td class=\"tg-koh6\">3 ton</td>\n",
        "  </tr>\n",
        "  <tr>\n",
        "    <td class=\"tg-koh6\">Zinco</td>\n",
        "    <td class=\"tg-koh6\">10%</td>\n",
        "    <td class=\"tg-koh6\">20%</td>\n",
        "    <td class=\"tg-koh6\">1 ton</td>\n",
        "  </tr>\n",
        "  <tr>\n",
        "    <td class=\"tg-koh6\">Chumbo</td>\n",
        "    <td class=\"tg-koh6\">40%</td>\n",
        "    <td class=\"tg-koh6\">50%</td>\n",
        "    <td class=\"tg-koh6\">3 ton</td>\n",
        "  </tr>\n",
        "  <tr>\n",
        "    <td class=\"tg-koh6\">Preço de venda (R$/ton)</td>\n",
        "    <td class=\"tg-koh6\">3 mil</td>\n",
        "    <td class=\"tg-koh6\">2 mil</td>\n",
        "    <td class=\"tg-koh6\"></td>\n",
        "  </tr>\n",
        "</table>\n",
        "\n",
        "<br> </br>\n",
        "\n",
        "##Modelo explícito:\n",
        "\n",
        "\\begin{align*}\n",
        "\\hbox{max} \\ \\ &3x_1+2x_2\\\\\n",
        "\\hbox{s.a} \\ \\ &0,5x_1+0,3x_2\\leq 3\\\\\n",
        "&0,1x_1+0,2x_2\\leq 1\\\\\n",
        "&0,4x_1+0,5x_2\\leq 3\\\\\n",
        "& \\ x_1,x_2\\geq 0\n",
        "\\end{align*}\n",
        "<br> </br>\n",
        "\n",
        "##Modelo algébrico (genérico):\n",
        "\n",
        "\n",
        ">$n$ ligas\n",
        "\n",
        ">$m$ matérias-primas\n",
        "\n",
        "###Variáveis\n",
        "\n",
        ">$x_i$ : quantidade em toneladas a ser produzida da liga $i$, com   $i=1,\\ldots,n$\n",
        "\n",
        "###Parâmetros\n",
        "\n",
        "> $R_i$ : receita por tonelada da liga $i$, com   $i=1,\\ldots,n$\n",
        "\n",
        ">$D_j$ : disponibilidade da matéria-prima $j$, com   $j=1,\\ldots,m$\n",
        "\n",
        ">$P_{ji}$ :  percentual da matéria-prima $j$ presente na liga $i$, com   $i=1,\\ldots,n$ e $j=1,\\ldots,m$\n",
        "\n",
        "\n",
        "\n",
        "\n",
        "\n",
        "\\begin{align*}\n",
        "\\hbox{max} \\ \\ &\\sum_{i=1}^nR_ix_i& &\\\\\n",
        "\\hbox{s.a} \\ \\ &\\sum_{i=1}^nP_{ji}x_i\\leq D_j& &j=1,\\ldots,m\\\\\n",
        "& \\ x_i\\geq 0& &i=1,\\ldots,n\n",
        "\\end{align*}\n",
        "\n"
      ]
    },
    {
      "cell_type": "code",
      "metadata": {
        "id": "JzNHbD_c-Xij",
        "outputId": "81ce6c44-bf60-4a93-b878-4b51aa233df2",
        "colab": {
          "base_uri": "https://localhost:8080/"
        }
      },
      "source": [
        "# Instalando a biblioteca PyMathProg\n",
        "!pip install pymprog"
      ],
      "execution_count": 6,
      "outputs": [
        {
          "output_type": "stream",
          "name": "stdout",
          "text": [
            "Collecting pymprog\n",
            "  Downloading pymprog-1.1.2.tar.gz (44 kB)\n",
            "\u001b[K     |████████████████████████████████| 44 kB 1.2 MB/s \n",
            "\u001b[?25hCollecting swiglpk>=1.4.4\n",
            "  Downloading swiglpk-5.0.4-cp37-cp37m-manylinux_2_17_x86_64.manylinux2014_x86_64.whl (2.3 MB)\n",
            "\u001b[K     |████████████████████████████████| 2.3 MB 7.4 MB/s \n",
            "\u001b[?25hBuilding wheels for collected packages: pymprog\n",
            "  Building wheel for pymprog (setup.py) ... \u001b[?25l\u001b[?25hdone\n",
            "  Created wheel for pymprog: filename=pymprog-1.1.2-py3-none-any.whl size=43501 sha256=48efb51b09dad654e25590092bcbcde6d9f4430f11e63b4816b5ed86314cc535\n",
            "  Stored in directory: /root/.cache/pip/wheels/a7/76/08/6f55f5367d8268927106437637699f9a427e4cc6af9f3e01ec\n",
            "Successfully built pymprog\n",
            "Installing collected packages: swiglpk, pymprog\n",
            "Successfully installed pymprog-1.1.2 swiglpk-5.0.4\n"
          ]
        }
      ]
    },
    {
      "cell_type": "code",
      "metadata": {
        "id": "m1s8Hmm8ZnjG",
        "outputId": "1446bb4e-5105-41c3-94a9-9b063e5de977",
        "colab": {
          "base_uri": "https://localhost:8080/"
        }
      },
      "source": [
        "from pymprog import* # Importando a biblioteca\n",
        "\n",
        "#Dados de Entrada\n",
        "R = [3, 2] # receita das ligas\n",
        "D = [3, 1, 3] # disponibilidade das matérias-primas\n",
        "P = [[0.5, 0.3],\n",
        "     [0.1, 0.2],\n",
        "     [0.4, 0.5],] # percentuais de matérias-primas nas ligas\n",
        "\n",
        "n = len(R) # número de ligas\n",
        "m = len(D) # número de matérias-primas\n",
        "\n",
        "begin(\"ligas\") # inicia um modelo chamado ligas\n",
        "\n",
        "# variáveis de decisão\n",
        "x = var(\"x\", n) # cria 'n' variáveis continuas x0, x1, ...., xn-1\n",
        "\n",
        "# função objetiva\n",
        "maximize(sum(R[i] * x[i] for i in range(n)))\n",
        "\n",
        "# restrições\n",
        "for j in range(m):\n",
        "  sum(P[j][i] * x[i] for i in range(n)) <= D[j]\n",
        "\n",
        "# resolvendo\n",
        "solve()\n",
        "\n",
        "# valor ótimo\n",
        "print(\"Valor ótimo = {:.3f}\".format(vobj()))\n",
        "\n",
        "# solução ótima\n",
        "for i in range(n):\n",
        "  print(\"x[{}] = {:.3f}\".format(i+1, x[i].primal))\n",
        "\n",
        "end()"
      ],
      "execution_count": 10,
      "outputs": [
        {
          "output_type": "stream",
          "name": "stdout",
          "text": [
            "Valor ótimo = 18.462\n",
            "x[1] = 4.615\n",
            "x[2] = 2.308\n"
          ]
        },
        {
          "output_type": "execute_result",
          "data": {
            "text/plain": [
              "model('ligas') is not the default model."
            ]
          },
          "metadata": {},
          "execution_count": 10
        }
      ]
    }
  ]
}